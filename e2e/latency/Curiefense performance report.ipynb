{
 "cells": [
  {
   "cell_type": "markdown",
   "metadata": {},
   "source": [
    "# Curiefense performance report\n",
    "## Set measurement folder"
   ]
  },
  {
   "cell_type": "code",
   "execution_count": null,
   "metadata": {},
   "outputs": [],
   "source": [
    "import os\n",
    "import json\n",
    "import glob\n",
    "import statistics\n",
    "\n",
    "import pandas as pd\n",
    "from collections import defaultdict\n",
    "import os\n",
    "import matplotlib.pyplot as plt\n",
    "\n",
    "DEFAULT_RESULTS_DIR = \"./results\"\n",
    "RESULTS_DIR = os.environ.get(\"RESULTS_DIR\", DEFAULT_RESULTS_DIR).rstrip(\"/\")\n",
    "print(f\"Performance measurements will be read from {RESULTS_DIR}\")"
   ]
  },
  {
   "cell_type": "markdown",
   "metadata": {},
   "source": [
    "## Sample data\n",
    "### Sample fortio measurement"
   ]
  },
  {
   "cell_type": "code",
   "execution_count": null,
   "metadata": {},
   "outputs": [],
   "source": [
    "j = json.load(open(os.path.join(RESULTS_DIR, \"with_cf/fortio-30-50-250.json\")))\n",
    "j"
   ]
  },
  {
   "cell_type": "markdown",
   "metadata": {},
   "source": [
    "### Sample jaeger measurement\n",
    "Two *spans* are present for each query: one for service `istio-ingressgateway`, one for service `ratings.bookinfo`. Related traces have the same `traceID` attribute. The span for `ratings.bookinfo` has a non-empty `references` attribute, and is smaller than the span for `istio-ingressgateway`."
   ]
  },
  {
   "cell_type": "code",
   "execution_count": null,
   "metadata": {},
   "outputs": [],
   "source": [
    "j = json.load(open(os.path.join(RESULTS_DIR, \"with_cf/jaeger-30-50-250.json\")))\n",
    "j"
   ]
  },
  {
   "cell_type": "markdown",
   "metadata": {},
   "source": [
    "## Create a pandas dataframe from jaeger & fortio outputs"
   ]
  },
  {
   "cell_type": "code",
   "execution_count": null,
   "metadata": {},
   "outputs": [],
   "source": [
    "def folder2pd(folder):\n",
    "    res = defaultdict(dict)\n",
    "    for f in glob.glob(os.path.join(RESULTS_DIR,folder,\"fortio-*.json\")):\n",
    "        tname = \"-\".join(f.split(\"-\")[-3:])\n",
    "        d = res[tname]\n",
    "        j = json.load(open(f))\n",
    "        d[\"Connections\"] = j[\"NumThreads\"]\n",
    "        d[\"RequestedQPS\"] = int(j[\"RequestedQPS\"])\n",
    "        dh = j[\"DurationHistogram\"]\n",
    "        d[\"SizeMin\"] = j[\"Sizes\"][\"Min\"]\n",
    "        d[\"SizeMax\"] = j[\"Sizes\"][\"Max\"]\n",
    "        d[\"ActualQPS\"] = j[\"ActualQPS\"]\n",
    "        pct = dh[\"Percentiles\"]\n",
    "        d[\"P50\"] = [x[\"Value\"] for x in pct if x[\"Percentile\"] == 50][0]\n",
    "        d[\"P75\"] = [x[\"Value\"] for x in pct if x[\"Percentile\"] == 75][0]\n",
    "        d[\"P90\"] = [x[\"Value\"] for x in pct if x[\"Percentile\"] == 90][0]\n",
    "        d[\"P99\"] = [x[\"Value\"] for x in pct if x[\"Percentile\"] == 99][0]\n",
    "        d[\"P99.9\"] = [x[\"Value\"] for x in pct if x[\"Percentile\"] == 99.9][0]\n",
    "        d[\"TimeMin\"] = dh[\"Min\"]\n",
    "        d[\"TimeMax\"] = dh[\"Max\"]\n",
    "        d[\"TimeAvg\"] = dh[\"Avg\"]\n",
    "        d[\"TimeStdDev\"] = dh[\"StdDev\"]\n",
    "    for f in glob.glob(os.path.join(RESULTS_DIR,folder,\"jaeger-*.json\")):\n",
    "        tname = \"-\".join(f.split(\"-\")[-3:])\n",
    "        d = res[tname]\n",
    "        j = json.load(open(f))\n",
    "        trace_data = defaultdict(lambda: [None, None])\n",
    "        for span in j[\"data\"]:\n",
    "            for s in span[\"spans\"]:\n",
    "                trace_id = s[\"traceID\"]\n",
    "                duration = s[\"duration\"]\n",
    "                if len(s[\"references\"]) == 0:\n",
    "                    # istio trace\n",
    "                    trace_data[trace_id][0] = float(duration)/1e6\n",
    "                else:\n",
    "                    # app trace\n",
    "                    trace_data[trace_id][1] = float(duration)/1e6\n",
    "        trace_difference = []\n",
    "        for (i, a) in trace_data.values():\n",
    "            if i is None or a is None:\n",
    "                continue\n",
    "            trace_difference.append(i-a)\n",
    "        d[\"JIstioTimeAvg\"] = statistics.fmean(trace_difference)\n",
    "        d[\"JIstioTimeP50\"] = statistics.quantiles(trace_difference, n=2)[-1]\n",
    "        d[\"JIstioTimeP75\"] = statistics.quantiles(trace_difference, n=4)[-1]\n",
    "        d[\"JIstioTimeP90\"] = statistics.quantiles(trace_difference, n=10)[-1]\n",
    "        d[\"JIstioTimeP99\"] = statistics.quantiles(trace_difference, n=100)[-1]\n",
    "        d[\"JIstioTimeMin\"] = min(trace_difference)\n",
    "        d[\"JIstioTimeMax\"] = max(trace_difference)\n",
    "    return pd.DataFrame(res.values())"
   ]
  },
  {
   "cell_type": "code",
   "execution_count": null,
   "metadata": {},
   "outputs": [],
   "source": [
    "folders = [\"with_cf\", \"without_cf\"]\n",
    "data = {f: folder2pd(f) for f in folders}\n",
    "data[\"without_cf\"]"
   ]
  },
  {
   "cell_type": "markdown",
   "metadata": {},
   "source": [
    "## Draw QPS vs time percentile\n",
    "As measured from fortio"
   ]
  },
  {
   "cell_type": "code",
   "execution_count": null,
   "metadata": {},
   "outputs": [],
   "source": [
    "def qps_vs(cnx, col, args, ylim=None):\n",
    "    lbls, vals = list(zip(*args.items()))\n",
    "    for m in vals:\n",
    "        t = (m[(m[\"Connections\"]==cnx)]).sort_values(by=[\"ActualQPS\"])    \n",
    "        p = plt.plot(t[\"ActualQPS\"],t[col])\n",
    "    plt.legend(lbls)\n",
    "    plt.xlabel(\"Actual QPS\")\n",
    "    plt.ylabel(f\"{col} (s)\")\n",
    "    if ylim:\n",
    "        plt.ylim(ylim)\n",
    "    plt.title(f\"connections {cnx} -- ActualQPS vs {col}\")\n",
    "\n",
    "def big_plot(*args, **kargs):\n",
    "    fig = plt.figure(figsize=(20,20), dpi=72)\n",
    "    qps_vs(*args, **kargs)"
   ]
  },
  {
   "cell_type": "code",
   "execution_count": null,
   "metadata": {},
   "outputs": [],
   "source": [
    "qps_vs(250, \"P90\", data, ylim=(0,1))"
   ]
  },
  {
   "cell_type": "code",
   "execution_count": null,
   "metadata": {},
   "outputs": [],
   "source": [
    "big_plot(500, \"P90\", data)"
   ]
  },
  {
   "cell_type": "code",
   "execution_count": null,
   "metadata": {},
   "outputs": [],
   "source": [
    "def plot_all(args, all_cols=[\"P50\",\"P90\",\"P99\"], ylim=None):\n",
    "    fig = plt.figure(figsize=(16,8), dpi= 100)\n",
    "    plt.subplots_adjust(top=2)\n",
    "    all_cnx = [10,70,125,250]\n",
    "    \n",
    "    i = 0\n",
    "    for cnx in all_cnx:\n",
    "        for col in all_cols:\n",
    "            i += 1\n",
    "            fig.add_subplot(len(all_cnx),len(all_cols),i)\n",
    "            qps_vs(cnx,col,args, ylim=ylim)"
   ]
  },
  {
   "cell_type": "code",
   "execution_count": null,
   "metadata": {},
   "outputs": [],
   "source": [
    "plot_all(data,ylim=(0,8))"
   ]
  },
  {
   "cell_type": "markdown",
   "metadata": {},
   "source": [
    "## Draw QPS vs latency introduced by istio\n",
    "As measured from jaeger"
   ]
  },
  {
   "cell_type": "code",
   "execution_count": null,
   "metadata": {
    "scrolled": true
   },
   "outputs": [],
   "source": [
    "plot_all(data, all_cols=[\"JIstioTimeP50\", \"JIstioTimeP90\", \"JIstioTimeP99\"])"
   ]
  },
  {
   "cell_type": "code",
   "execution_count": null,
   "metadata": {},
   "outputs": [],
   "source": []
  }
 ],
 "metadata": {
  "kernelspec": {
   "display_name": "Python 3",
   "language": "python",
   "name": "python3"
  },
  "language_info": {
   "codemirror_mode": {
    "name": "ipython",
    "version": 3
   },
   "file_extension": ".py",
   "mimetype": "text/x-python",
   "name": "python",
   "nbconvert_exporter": "python",
   "pygments_lexer": "ipython3",
   "version": "3.9.0"
  }
 },
 "nbformat": 4,
 "nbformat_minor": 4
}
